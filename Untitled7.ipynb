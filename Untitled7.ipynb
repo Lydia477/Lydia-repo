{
 "cells": [
  {
   "cell_type": "code",
   "execution_count": 229,
   "id": "33dfeee3",
   "metadata": {
    "scrolled": true
   },
   "outputs": [
    {
     "name": "stdout",
     "output_type": "stream",
     "text": [
      "Defaulting to user installation because normal site-packages is not writeable\n",
      "Requirement already satisfied: openai in c:\\users\\dan\\appdata\\roaming\\python\\python39\\site-packages (0.27.2)\n",
      "Requirement already satisfied: tqdm in c:\\programdata\\anaconda3\\lib\\site-packages (from openai) (4.64.1)\n",
      "Requirement already satisfied: requests>=2.20 in c:\\programdata\\anaconda3\\lib\\site-packages (from openai) (2.28.1)\n",
      "Requirement already satisfied: aiohttp in c:\\users\\dan\\appdata\\roaming\\python\\python39\\site-packages (from openai) (3.8.4)\n",
      "Requirement already satisfied: idna<4,>=2.5 in c:\\programdata\\anaconda3\\lib\\site-packages (from requests>=2.20->openai) (3.3)\n",
      "Requirement already satisfied: charset-normalizer<3,>=2 in c:\\programdata\\anaconda3\\lib\\site-packages (from requests>=2.20->openai) (2.0.4)\n",
      "Requirement already satisfied: urllib3<1.27,>=1.21.1 in c:\\programdata\\anaconda3\\lib\\site-packages (from requests>=2.20->openai) (1.26.11)\n",
      "Requirement already satisfied: certifi>=2017.4.17 in c:\\programdata\\anaconda3\\lib\\site-packages (from requests>=2.20->openai) (2022.9.14)\n",
      "Requirement already satisfied: attrs>=17.3.0 in c:\\programdata\\anaconda3\\lib\\site-packages (from aiohttp->openai) (21.4.0)\n",
      "Requirement already satisfied: multidict<7.0,>=4.5 in c:\\users\\dan\\appdata\\roaming\\python\\python39\\site-packages (from aiohttp->openai) (6.0.4)\n",
      "Requirement already satisfied: async-timeout<5.0,>=4.0.0a3 in c:\\users\\dan\\appdata\\roaming\\python\\python39\\site-packages (from aiohttp->openai) (4.0.2)\n",
      "Requirement already satisfied: aiosignal>=1.1.2 in c:\\users\\dan\\appdata\\roaming\\python\\python39\\site-packages (from aiohttp->openai) (1.3.1)\n",
      "Requirement already satisfied: yarl<2.0,>=1.0 in c:\\users\\dan\\appdata\\roaming\\python\\python39\\site-packages (from aiohttp->openai) (1.8.2)\n",
      "Requirement already satisfied: frozenlist>=1.1.1 in c:\\users\\dan\\appdata\\roaming\\python\\python39\\site-packages (from aiohttp->openai) (1.3.3)\n",
      "Requirement already satisfied: colorama in c:\\programdata\\anaconda3\\lib\\site-packages (from tqdm->openai) (0.4.5)\n"
     ]
    }
   ],
   "source": [
    "!pip install openai"
   ]
  },
  {
   "cell_type": "code",
   "execution_count": 230,
   "id": "73efb713",
   "metadata": {},
   "outputs": [],
   "source": [
    "import openai\n",
    "import pandas as pd"
   ]
  },
  {
   "cell_type": "code",
   "execution_count": 231,
   "id": "93bbca78",
   "metadata": {
    "scrolled": true
   },
   "outputs": [],
   "source": [
    "import chardet\n",
    "\n",
    "with open('01.txt', 'rb') as fh:\n",
    "    result = chardet.detect(fh.read())\n",
    "    encoding = result['encoding']\n",
    "\n",
    "with open('01.txt', 'r', encoding=encoding) as fh:\n",
    "    tmp = fh.read()\n",
    "    itemlist = tmp.split(',')"
   ]
  },
  {
   "cell_type": "code",
   "execution_count": 232,
   "id": "b9ea792e",
   "metadata": {},
   "outputs": [],
   "source": [
    "itemlist = str(itemlist)"
   ]
  },
  {
   "cell_type": "code",
   "execution_count": 233,
   "id": "5f873386",
   "metadata": {
    "scrolled": true
   },
   "outputs": [],
   "source": [
    "keyfile = open(\"openai.key.txt\", \"r\")\n",
    "key = keyfile.readline()\n",
    "openai.api_key = key"
   ]
  },
  {
   "cell_type": "code",
   "execution_count": 234,
   "id": "518f9f30",
   "metadata": {},
   "outputs": [],
   "source": [
    "data = [itemlist[0:3200], itemlist[3201:6400], \n",
    "        itemlist[6401:9600], itemlist[9601:12800], itemlist[12801:16000]]"
   ]
  },
  {
   "cell_type": "code",
   "execution_count": 235,
   "id": "122a0b11",
   "metadata": {},
   "outputs": [
    {
     "data": {
      "text/plain": [
       "\"['\\\\nBlockchain in education management: present and future applications \\\\nPreeti Bhaskar \\\\nUniversity of Technology and Applied Sciences', ' Ibra', ' Oman and ICFAI Business School', ' ICFAI University', ' Dehradun', ' India \\\\n\\\\nChandan Kumar Tiwari \\\\nSymbiosis Centre for Management Studies', ' Noida', ' India and Symbiosis International (Deemed University)', ' Pune', ' India', ' and \\\\n\\\\nAmit Joshi \\\\nICFAI Business School', ' ICFAI University', ' Dehradun', ' India \\\\nAbstract \\\\nPurpose – This paper aims to provide a systematic literature review on blockchain technology in education to offer a detailed understanding of the present scenario in terms of bene.ts', ' barriers', ' present blockchain technology application and future areas where blockchain technology can be implemented in the other .elds of education. \\\\nDesign/methodology/approach – A bibliometric analysis is conducted on for data in the publications', ' journals', ' authors and citations were collected', ' and examined by applying bibliometric measures. The data was collected from SCOPUS database on the topic “Blockchain Technology in Education”. The following research questions guided this systematic literature review (SLR: How blockchain technology has been de.ned in educational settings? How were the technology examined (i.e. the methodology)? What were the results of using this technology in an education system? \\\\nFindings – The study identi.es the bene.ts', ' barriers and present application of blockchain technology in education. The analysis shows that blockchain technology in education is still a young discipline', ' but has a lot of potential to bene.ts the educational sector at large. \\\\nPractical implications – This research provides a groundwork for education institutions', ' the policymakers and researchers to explore other areas where blockchain technology can be implemented', ' though this research has also suggested some prospective uses of blockchain technology in different functions of an education system', ' more application can be brought into the education system to exploit the potential of blockchain technology. \\\\nOriginality/value – The paper discusses the application of blockchain technology in education with the help of bibliometric analysis. This is one of the .rst known studies to review the blockchain technology by identifying its bene.ts', ' barriers', ' present blockchain technology application. Based on the analysis', ' future application areas are also identi.ed. \\\\nKeywords Systematic review', ' Education', ' Blockchain technology', ' Blockchain application \\\\nPaper type Literature review \\\\n1. Introduction \\\\nBlockchain was .rst used to a peer-to-peer ledger for record-keeping of the transactions of Bitcoin cryptocurrency. A blockchain transaction in the public ledger contains a veri.able record and once the information entered', ' it cannot be altered or erased in the future. The \\\\nBlockchain in education management \\\\nReceived 4 July 2020 Revised 19 September 2020 Accepted 10 October 2020 \\\\n\\\\nInteractive Technology and Smart Education Vol. 18 No. 1', ' 2021 pp. 1-17 © Emerald Publishing Limited 1741-5659 DOI 10.1108/ITSE-07-2020-0102 \\\\n\\\\nBlockchain tech\""
      ]
     },
     "execution_count": 235,
     "metadata": {},
     "output_type": "execute_result"
    }
   ],
   "source": [
    "data[0]"
   ]
  },
  {
   "cell_type": "code",
   "execution_count": 236,
   "id": "875e738a",
   "metadata": {},
   "outputs": [],
   "source": [
    "def chatgptfn(sub_list):\n",
    "    result = ''\n",
    "    response = openai.ChatCompletion.create(\n",
    "        model=\"gpt-3.5-turbo\",\n",
    "        messages=[\n",
    "            {\"role\": \"system\", \"content\": \"You are an assistant\"},\n",
    "            {\"role\": \"user\", \"content\": f\"{sub_list} :give me a summary\"}\n",
    "        ]\n",
    "    )\n",
    "    for choice in response.choices:\n",
    "        result += choice.message.content\n",
    "    return result"
   ]
  },
  {
   "cell_type": "code",
   "execution_count": 237,
   "id": "1627e742",
   "metadata": {},
   "outputs": [],
   "source": [
    "data[0] = chatgptfn(data[0])"
   ]
  },
  {
   "cell_type": "code",
   "execution_count": 238,
   "id": "2c8463f0",
   "metadata": {
    "scrolled": true
   },
   "outputs": [
    {
     "data": {
      "text/plain": [
       "'This paper provides a literature review on the use of blockchain technology in education. The authors conduct a bibliometric analysis to identify the benefits, barriers, and current applications of blockchain in education. They explore how blockchain has been defined in educational settings, and examine the results of using this technology in an education system. The study concludes that while blockchain in education is still a young discipline, it has the potential to benefit the educational sector. The paper aims to provide a groundwork for education institutions, policymakers, and researchers to explore other areas where blockchain technology can be implemented in education.'"
      ]
     },
     "execution_count": 238,
     "metadata": {},
     "output_type": "execute_result"
    }
   ],
   "source": [
    "data[0]"
   ]
  },
  {
   "cell_type": "code",
   "execution_count": 239,
   "id": "eeecd3cc",
   "metadata": {},
   "outputs": [],
   "source": [
    "for i in range(0,5):\n",
    "    data[i] = chatgptfn(data[i])"
   ]
  },
  {
   "cell_type": "code",
   "execution_count": 240,
   "id": "38ff3fb5",
   "metadata": {},
   "outputs": [],
   "source": [
    "data1 = ''\n",
    "for i in range(0,5):\n",
    "    data1=data1+data[i]"
   ]
  },
  {
   "cell_type": "code",
   "execution_count": 241,
   "id": "e2602b41",
   "metadata": {},
   "outputs": [
    {
     "data": {
      "text/plain": [
       "\"The paper is a literature review that explores the use of blockchain technology in education. It identifies the benefits, barriers, and current applications of blockchain in education through a bibliometric analysis. The study suggests that although blockchain in education is still in its early stages, it has the potential to benefit the educational sector. The paper aims to provide a foundation for education institutions, policymakers, and researchers to explore other areas where blockchain technology can be implemented in education.Blockchain technology eliminates the need for third-party intermediaries and enables direct verification and transactions. It has progressed through four generations, with each generation focusing on different areas such as finance, smart contracts, regulation and governance, and business integration. The key benefits of blockchain technology are security, decentralization, transparency, and immutability. It has been used in various sectors, including finance, government, education, health, tourism, energy, and banking. By 2025, blockchain technologies are expected to control around 10% of the world's GDP. Blockchain technology in education is in its early stages, with the application of blockchain technology in education being primarily seen in a globally trusted, decentralized higher education credit transfer and grading system called EduCTX. The structures that accompany blockchain technology are cybersecurity capabilities.This paper conducts a systematic literature review on the application of blockchain technology in the education sector. The objective is to provide a detailed understanding of the present scenario in terms of benefits, challenges, present blockchain technology application, and future potential areas where blockchain technology can be implemented in the education sector. The review examines the definition of blockchain technology in education, the methodology used in examining the technology, and the results of using this technology in the education sector. The research questions guiding the review are stated to be how blockchain technology has been defined in educational settings, how the technology has been examined, and what the results of using this technology in an education system are. The study follows the steps involved in conducting a systematic literature review and utilizes the Preferred Reporting Items for Systematic Reviews and Meta-Analyses (PRISMA) diagram to depict the stages involved. The conclusions of the study offer policy-makers, higher education institutions, academicians, managers, and researchers the potential benefits of blockchain technology for the benefit of the education sector.The article discusses the systematic literature review conducted on the use of blockchain technology in education. The authors searched the SCOPUS database for studies on the topic and applied inclusion criteria to select relevant articles. The selected articles were then subject to content analysis to examine their objectives, methodology, and findings. The study reveals that blockchain technology is a relatively new subject in the field of education, and while it has been applied in various areas of research, its application is still immature and lacks widespread public knowledge.This article is a systematic review of the existing literature on the application of blockchain technology in education. The study found that there are issues with scalability, security of smart contracts and user adoption in blockchain technology. However, it is believed that blockchain technology can bring significant changes in the connections between schools, colleges, universities and society. The review found that there is a growing interest in blockchain technology in education since 2017, but year-wise citation is limited. The studies on blockchain technology in education are mostly qualitative or based on reviews, and there is a need for quantitative studies. The article suggests that blockchain technology and its application in education is a multidisciplinary area of research.\""
      ]
     },
     "execution_count": 241,
     "metadata": {},
     "output_type": "execute_result"
    }
   ],
   "source": [
    "data1"
   ]
  },
  {
   "cell_type": "code",
   "execution_count": 242,
   "id": "21c0740a",
   "metadata": {},
   "outputs": [],
   "source": [
    "import chardet\n",
    "\n",
    "with open('02.txt', 'rb') as fh:\n",
    "    result = chardet.detect(fh.read())\n",
    "    encoding = result['encoding']\n",
    "\n",
    "with open('02.txt', 'r', encoding=encoding) as fh:\n",
    "    tmp = fh.read()\n",
    "    itemlist = tmp.split(',')"
   ]
  },
  {
   "cell_type": "code",
   "execution_count": 243,
   "id": "04984555",
   "metadata": {},
   "outputs": [],
   "source": [
    "itemlist = str(itemlist)"
   ]
  },
  {
   "cell_type": "code",
   "execution_count": 244,
   "id": "8e6caccc",
   "metadata": {},
   "outputs": [],
   "source": [
    "data = [itemlist[0:3200], itemlist[3201:6400], \n",
    "        itemlist[6401:9600], itemlist[9601:12800], itemlist[12801:16000]]"
   ]
  },
  {
   "cell_type": "code",
   "execution_count": 245,
   "id": "8bfc47c3",
   "metadata": {},
   "outputs": [
    {
     "data": {
      "text/plain": [
       "'[\\'RESEARCH PAPERS\\\\nA STUDY ON ATTITUDE OF URBAN AND RURAL COLLEGE STUDENT\\\\nTEACHERS TOWARDS SCIENCE\\\\nBy\\\\nS. PRAKASH * S. AMALADOSS XAVIER **\\\\n* Research Scholar\\', \\' Manonmaniam Sundaranar University\\', \\' Tirunelveli.\\\\n\\\\n** Assistant Professor in Physical Science\\', \" St.Xavier\\'s College of Education\", \\' Palayamkottai.\\\\n\\\\nABSTRACT\\\\nThere is a great need to identify and develop positive attitude towards science subject of student teachers. The time has come to increase our efforts to develop positive attitude towards science subject among teachers\\', \\' student teachers and school children. This is an immediate requirement of the present day. This paper reports on attitude of student teachers towards science with respect to their locality of the college. The sample consists of 1080 student teachers of Madurai revenue district. A scale on attitude towards science was used to get the data from the student teachers.\\\\n\\\\nPercentage Analysis\\', \\' Mean\\', \" Standard Deviation and ’t\\'tests were used for analyzing the data. The results showed that there is no significant difference in attitude towards science of urban and rural student teachers.\\\\n\\\\nKeywords: Attitude Towards Science\", \\' Student Teachers\\', \\' Locality of the College.\\\\n\\\\nINTRODUCTION\\\\nThe qualities imbibed by the learner through learning\\\\nScience is one of those human activities that man has\\\\nscience are of great value to the citizens living in the\\\\ncreated to gratify certain human needs and desires.\\\\n\\\\nsociety.(Vaidya&Narendra\\', \"1976)\\\\nCuriosity has been the greatest motive power of scientific\\\\nThe Scientific Policy Resolution of the Govt. of India (1958)\\\\nresearch. The search for truth has become the dominant\\\\nstates that “The dominating feature of the contemporary\\\\nfactor in persuasion of science. As it is under persuasion\\\\nworld is the intense cultivation to meet the country\\'s\\\\nsince so many centuries it has attracted the attention of a\\\\nrequirement. Science has now become a compulsory\\\\nmuch persisted group of people. (Conant\", \\'1951)\\\\nsubject in the school curriculum in every system of school\\\\nScience is no longer confined to a few seriously devoted\\\\neducation right from the elementary stage\\', \\' because of its\\\\npersons. Since the life in the present world invariably\\\\nmultifarious values gifted to the individual as well as to the\\\\nwarrants to variable degrees of scientific facts and laws\\', \\'\\\\nsociety.”(Bhaskar rao \\', \\'1997)\\\\nscience has now become a part of general education.\\\\n\\\\nAn attitude is an emotional reaction towards a person or\\\\n(Best\\', \\'1982) Science takes its place side by side with other\\\\nthing. It is a personal response to an object\\', \" developed\\\\nsubjects as an essential element of one\\'s education. It\\\\nthrough experience which can be characterized as\\\\naffords knowledge of certain facts and laws and an insight\\\\nf a v o u r a b l e o r u n f a v o u r a b l e. ( H i l g a r d \", \\' A t k i n s o n into methods and data peculiar to the domain of\\\\n&Atkinson\\', \\'1958). The use of science as the object or\\\\nscience. (Sharma\\', \\'1989) However\\', \\' the inclusion of any\\\\nstimulus of these feelings delineates that set of attitudes\\\\nsubject in the curriculum should satisfy the intel ectual\\', \"\\\\'"
      ]
     },
     "execution_count": 245,
     "metadata": {},
     "output_type": "execute_result"
    }
   ],
   "source": [
    "data[0]"
   ]
  },
  {
   "cell_type": "code",
   "execution_count": 246,
   "id": "90745521",
   "metadata": {},
   "outputs": [],
   "source": [
    "def chatgptfn(sub_list):\n",
    "    result = ''\n",
    "    response = openai.ChatCompletion.create(\n",
    "        model=\"gpt-3.5-turbo\",\n",
    "        messages=[\n",
    "            {\"role\": \"system\", \"content\": \"You are an assistant\"},\n",
    "            {\"role\": \"user\", \"content\": f\"{sub_list} :give me a summary\"}\n",
    "        ]\n",
    "    )\n",
    "    for choice in response.choices:\n",
    "        result += choice.message.content\n",
    "    return result"
   ]
  },
  {
   "cell_type": "code",
   "execution_count": 247,
   "id": "63e5226b",
   "metadata": {},
   "outputs": [],
   "source": [
    "data[0] = chatgptfn(data[0])"
   ]
  },
  {
   "cell_type": "code",
   "execution_count": 248,
   "id": "e710a2c9",
   "metadata": {},
   "outputs": [
    {
     "data": {
      "text/plain": [
       "\"The research paper is about the attitude of urban and rural college student teachers towards science. The study aims to identify and develop a positive attitude towards science among student teachers, which is an immediate requirement of the present day. The sample consists of 1080 student teachers from Madurai revenue district, and a scale on attitude towards science was used to get the data. The results showed that there is no significant difference in attitude towards science of urban and rural student teachers. The paper emphasizes the need to include science as an essential element of one's education and to satisfy the intellectual requirements of students.\""
      ]
     },
     "execution_count": 248,
     "metadata": {},
     "output_type": "execute_result"
    }
   ],
   "source": [
    "data[0]"
   ]
  },
  {
   "cell_type": "code",
   "execution_count": 249,
   "id": "0745f0c6",
   "metadata": {},
   "outputs": [],
   "source": [
    "for i in range(0,5):\n",
    "    data[i] = chatgptfn(data[i])"
   ]
  },
  {
   "cell_type": "code",
   "execution_count": 250,
   "id": "1f9ace2f",
   "metadata": {},
   "outputs": [],
   "source": [
    "data2 = ''\n",
    "for i in range(0,5):\n",
    "    data2=data2+data[i]"
   ]
  },
  {
   "cell_type": "code",
   "execution_count": 251,
   "id": "d413f670",
   "metadata": {},
   "outputs": [
    {
     "data": {
      "text/plain": [
       "\"The research paper focuses on the attitudes of urban and rural college student teachers towards science. The study surveyed 1080 student teachers from Madurai revenue district using a scale to measure their attitude towards science. The results showed that there is no significant difference in attitudes towards science between urban and rural student teachers. The paper highlights the importance of incorporating science education into student curriculums to meet intellectual needs and foster positive attitudes towards science.The study focused on investigating the level of attitude towards science and its dimensions among college student teachers in urban and rural areas. The researcher found that the attitude towards science among all student teachers was moderate and there was no significant difference between urban and rural college student teachers in their attitude towards science. The study highlights the importance of developing a positive attitude towards science among student teachers as it is necessary for them to become successful teachers in the future and prepare young students for a bright future.The study investigated the attitude of B.Ed. student teachers towards science and the dimensions of personal confidence, involvement with the subject, and usefulness of the subject content. The research methodology involved a survey method, and 1080 B.Ed. students from 20 colleges in Madurai revenue district were selected through random sampling. The findings showed that there is a significant difference between urban and rural college student teachers in the dimension of perception of teacher's attitude, but no significant difference in their attitude towards science in total and its dimensions. The study also found that some student teachers have a high level of personal confidence, involvement, and usefulness towards the subject matter. The tools used for this study included Likert scale and Attitude towards Science Scale. Overall, the study concludes that the attitude of student teachers towards science needs more attention to improve their teaching practices.The study shows that a majority of the student teachers have a moderate level of attitude towards science and its dimensions. A very small percentage of respondents have a high level of attitude towards science. The study suggests that this is because these student teachers might have been exposed to minimum levels of science activities during their undergraduate studies. There is also a significant difference in the attitude towards science between urban and rural college student teachers. The study recommends encouraging student teachers to read magazines and journals related to science.In this article, the attitude of student teachers towards science is discussed. The research found that rural college student teachers lack personal confidence, involvement and usefulness towards the subject content of science, whereas urban college student teachers are better in this regard. However, both urban and rural teacher students have a moderate attitude towards science. The authors suggest that institutions should provide a rich environment for improving the science learning skills of students, organize science exhibitions, and encourage co-curricular and extracurricular activities for promoting awareness about science. The utilization of mass media and high-quality teacher educators are also recommended for improving the situation. Overall, the article highlights the need to improve the attitude of student teachers towards science to promote scientific literacy in society.\""
      ]
     },
     "execution_count": 251,
     "metadata": {},
     "output_type": "execute_result"
    }
   ],
   "source": [
    "data2"
   ]
  },
  {
   "cell_type": "code",
   "execution_count": 252,
   "id": "65f66438",
   "metadata": {},
   "outputs": [],
   "source": [
    "import chardet\n",
    "\n",
    "with open('03.txt', 'rb') as fh:\n",
    "    result = chardet.detect(fh.read())\n",
    "    encoding = result['encoding']\n",
    "\n",
    "with open('03.txt', 'r', encoding=encoding) as fh:\n",
    "    tmp = fh.read()\n",
    "    itemlist = tmp.split(',')"
   ]
  },
  {
   "cell_type": "code",
   "execution_count": 253,
   "id": "7af568ce",
   "metadata": {},
   "outputs": [],
   "source": [
    "itemlist = str(itemlist)"
   ]
  },
  {
   "cell_type": "code",
   "execution_count": 254,
   "id": "667b7a93",
   "metadata": {},
   "outputs": [],
   "source": [
    "data = [itemlist[0:3200], itemlist[3201:6400], \n",
    "        itemlist[6401:9600], itemlist[9601:12800], itemlist[12801:16000]]"
   ]
  },
  {
   "cell_type": "code",
   "execution_count": 255,
   "id": "6864f6c5",
   "metadata": {},
   "outputs": [
    {
     "data": {
      "text/plain": [
       "\"['The future  \\\\nof education  \\\\nand skills\\\\nEducation 2030\\\\nThis work is published under the responsibility of the Secretary-General of the OECD. The opinions expressed and \\\\narguments employed herein do not necessarily reflect the official views of OECD member countries. \\\\n\\\\nThis document', ' as well as any data and map included herein', ' are without prejudice to the status of or sovereignty over \\\\nany territory', ' to the delimitation of international frontiers and boundaries and to the name of any territory', ' city or area. \\\\n\\\\n \\\\n\\\\n \\\\n\\\\n \\\\n\\\\n \\\\n\\\\n \\\\n\\\\n \\\\n\\\\n \\\\n\\\\n \\\\n\\\\n \\\\n\\\\n \\\\n\\\\n \\\\n\\\\n \\\\n\\\\n \\\\n\\\\n \\\\n\\\\n \\\\n\\\\n \\\\n\\\\n \\\\n\\\\n \\\\n\\\\n \\\\n\\\\nCover photo Credits: Hurst Photo/Shutterstock.com', ' igorstevanovic/Shutterstock.com and \\\\nwavebreakmedia/Shutterstock.com  \\\\n\\\\n_______________________________________________________________________________________________________________________ \\\\nYou can copy', ' download or print OECD content for your own use', ' and you can include excerpts from OECD publications', ' databases and multimedia \\\\nproducts in your own documents', ' presentations', ' blogs', ' websites and teaching materials', ' provided that suitable acknowledgement of OECD as source \\\\nand copyright owner is given. All requests for public or commercial use and translation rights should be submitted to rights@oecd.org. Requests for \\\\npermission to photocopy portions of this material for public or commercial use shall be addressed directly to the Copyright Clearance Center (CCC) at \\\\ninfo@copyright.com or the Centre français d’exploitation du droit de copie (CFC) at contact@cfcopies.com. \\\\n_______________________________________________________________________________________________________________________                              \\\\n \\\\n\\\\n                                           Foreword \\\\n\\\\n \\\\nWe are facing unprecedented challenges – social', ' economic and environmental – driven by accelerating globalisation \\\\nand a faster rate of technological developments. At the same time', ' those forces are providing us with myriad new \\\\nopportunities for human advancement. The future is uncertain and we cannot predict it; but we need to be open and \\\\nready for it. The children entering education in 2018 will be young adults in 2030. Schools can prepare them for jobs \\\\nthat have not yet been created', ' for technologies that have not yet been invented', ' to solve problems that have not yet \\\\nbeen anticipated. It will be a shared responsibility to seize opportunities and find solutions. \\\\nTo navigate through such uncertainty', ' students will need to develop curiosity', ' imagination', ' resilience and self-\\\\nregulation; they will need to respect and appreciate the ideas', ' perspectives and values of others; and they will need to \\\\ncope with failure and rejection', ' and to move forward in the face of adversity. Their motivation will be more than getting \\\\na good job and a high income; they will also need to care about the well-being of their friends and families', ' their \\\\ncommunities and the planet. \\\\nEducation can equip learners with agency and a sense of purpose', ' and the competencies they need', ' to shape their own \\\\nlives and contribute to the liv\""
      ]
     },
     "execution_count": 255,
     "metadata": {},
     "output_type": "execute_result"
    }
   ],
   "source": [
    "data[0]"
   ]
  },
  {
   "cell_type": "code",
   "execution_count": 256,
   "id": "bcdf3762",
   "metadata": {},
   "outputs": [],
   "source": [
    "def chatgptfn(sub_list):\n",
    "    result = ''\n",
    "    response = openai.ChatCompletion.create(\n",
    "        model=\"gpt-3.5-turbo\",\n",
    "        messages=[\n",
    "            {\"role\": \"system\", \"content\": \"You are an assistant\"},\n",
    "            {\"role\": \"user\", \"content\": f\"{sub_list} :give me a summary\"}\n",
    "        ]\n",
    "    )\n",
    "    for choice in response.choices:\n",
    "        result += choice.message.content\n",
    "    return result"
   ]
  },
  {
   "cell_type": "code",
   "execution_count": 257,
   "id": "2838d6c2",
   "metadata": {},
   "outputs": [],
   "source": [
    "data[0] = chatgptfn(data[0])"
   ]
  },
  {
   "cell_type": "code",
   "execution_count": 258,
   "id": "2b1f2400",
   "metadata": {},
   "outputs": [
    {
     "data": {
      "text/plain": [
       "'The report titled \"The Future of Education and Skills: Education 2030\" is published by the OECD and discusses the unprecedented challenges faced in social, economic, and environmental domains due to accelerating globalization and technological advancements. The report emphasizes preparing students for jobs that do not exist yet and developing competencies such as curiosity, imagination, resilience, and self-regulation as well as respect for others\\' perspectives and values. Education is considered a means of equipping learners with agency, a sense of purpose, and the necessary competencies to shape their lives and contribute to society.'"
      ]
     },
     "execution_count": 258,
     "metadata": {},
     "output_type": "execute_result"
    }
   ],
   "source": [
    "data[0]"
   ]
  },
  {
   "cell_type": "code",
   "execution_count": 259,
   "id": "444c1ea5",
   "metadata": {},
   "outputs": [],
   "source": [
    "for i in range(0,5):\n",
    "    data[i] = chatgptfn(data[i])"
   ]
  },
  {
   "cell_type": "code",
   "execution_count": 260,
   "id": "2ae359dc",
   "metadata": {},
   "outputs": [],
   "source": [
    "data3 = ''\n",
    "for i in range(0,5):\n",
    "    data3=data3+data[i]"
   ]
  },
  {
   "cell_type": "code",
   "execution_count": 261,
   "id": "5b7fefa5",
   "metadata": {},
   "outputs": [
    {
     "data": {
      "text/plain": [
       "'The OECD\\'s report, \"The Future of Education and Skills: Education 2030,\" highlights the challenges of globalization and technological advancements and stresses the importance of preparing students for the jobs of the future. The report calls for the development of competencies such as curiosity, imagination, resilience, and self-regulation. Education is seen as a critical tool in shaping learners\\' lives, equipping them with the necessary competencies to shape their careers and make a valuable contribution to society.The Organisation for Economic Co-operation and Development (OECD) has launched The Future of Education and Skills 2030 project to help countries determine what knowledge, skills, attitudes and values students need to prosper and shape their world, and how instructional systems can effectively develop these qualities. The project involves a range of stakeholders from around the world, including policy makers, academic experts, school networks, teachers, education leaders, students and social partners. The learning framework, which offers a vision and some underpinning principles for the future of education systems, has been co-created for the OECD Education 2030 project. It is focused on orientation, not prescription, and invites others to join in developing future-ready education for all. The framework revolves around a shared vision of helping every learner develop as a whole person, fulfill his or her potential and shape a shared future built on the well-being of individuals, communities and the planet.The world is facing significant and complex problems, including climate change, economic disruption, technological innovation, social inequality, and global conflicts. As a result, education curricula need to evolve to address these challenges and prepare students to find new solutions for a rapidly changing world. Individual and collective well-being should be at the center of these education goals, which go beyond access to material resources and encompass health, social connections, education, security, and life satisfaction. The OECD Education 2030 framework contributes to the UN 2030 Global Goals for Sustainable Development, aiming to ensure the sustainability of people, profit, planet, and peace through partnership.The concept of inclusive growth emphasizes on the role of education in developing the knowledge, skills, attitudes and values necessary for people to contribute and benefit from sustainable future. Future-ready students need to exercise agency in their own education and throughout life, which implies a sense of responsibility to participate in the world and influence people, events, and circumstances for the better. To enable agency, personalized learning environment that supports and motivates each student and building a solid foundation of literacy and numeracy are necessary. Additionally, students should possess a broad set of knowledge, skills, attitudes, and values in action to become change agents and anticipate the consequences of their actions. The OECD Education 2030 stakeholders have co-developed a “learning compass” that shows how young people can navigate their lives and their world.The article discusses the necessary skills and knowledge required for students to be prepared for the future. It emphasizes the importance of disciplinary knowledge, epistemic knowledge, and procedural knowledge as well as a broad range of cognitive and meta-cognitive, social and emotional, and practical and physical skills. The use of this broader range of knowledge and skills will be mediated by attitudes and values. The article also identifies three further categories of competencies, the \"Transformative Competencies\", that together address the growing need for young people to be innovative, responsible, and aware: Creating new value, Reconciling tensions and dilemmas, and Taking responsibility. The article emphasizes the urgency of innovation for achieving stronger, more inclusive, and more sustainable development.'"
      ]
     },
     "execution_count": 261,
     "metadata": {},
     "output_type": "execute_result"
    }
   ],
   "source": [
    "data3"
   ]
  },
  {
   "cell_type": "code",
   "execution_count": 262,
   "id": "cd3090d8",
   "metadata": {},
   "outputs": [],
   "source": [
    "papers = [data1, data2, data3]"
   ]
  },
  {
   "cell_type": "code",
   "execution_count": 263,
   "id": "a3ead5d2",
   "metadata": {},
   "outputs": [],
   "source": [
    "import gensim\n",
    "from gensim import corpora\n",
    "from pprint import pprint"
   ]
  },
  {
   "cell_type": "code",
   "execution_count": 264,
   "id": "8e781d44",
   "metadata": {},
   "outputs": [],
   "source": [
    "# 創建詞袋\n",
    "texts = [[word for word in document.lower().split()] for document in papers]\n",
    "dictionary = corpora.Dictionary(texts)\n",
    "corpus = [dictionary.doc2bow(text) for text in texts]"
   ]
  },
  {
   "cell_type": "code",
   "execution_count": 265,
   "id": "63ed6b93",
   "metadata": {},
   "outputs": [],
   "source": [
    "# 訓練 LDA 模型\n",
    "lda_model = gensim.models.ldamodel.LdaModel(corpus=corpus, id2word=dictionary, \n",
    "                                            num_topics=3, random_state=100, update_every=1, \n",
    "                                            chunksize=100, passes=10, alpha='auto', per_word_topics=True)"
   ]
  },
  {
   "cell_type": "code",
   "execution_count": 266,
   "id": "38481d0e",
   "metadata": {},
   "outputs": [
    {
     "name": "stdout",
     "output_type": "stream",
     "text": [
      "Defaulting to user installation because normal site-packages is not writeable\n",
      "Requirement already satisfied: pyLDAvis in c:\\users\\dan\\appdata\\roaming\\python\\python39\\site-packages (3.4.0)\n",
      "Requirement already satisfied: numexpr in c:\\programdata\\anaconda3\\lib\\site-packages (from pyLDAvis) (2.8.3)\n",
      "Requirement already satisfied: jinja2 in c:\\programdata\\anaconda3\\lib\\site-packages (from pyLDAvis) (2.11.3)\n",
      "Requirement already satisfied: pandas>=1.3.4 in c:\\programdata\\anaconda3\\lib\\site-packages (from pyLDAvis) (1.4.4)\n",
      "Requirement already satisfied: funcy in c:\\users\\dan\\appdata\\roaming\\python\\python39\\site-packages (from pyLDAvis) (2.0)\n",
      "Requirement already satisfied: joblib>=1.2.0 in c:\\users\\dan\\appdata\\roaming\\python\\python39\\site-packages (from pyLDAvis) (1.2.0)\n",
      "Requirement already satisfied: scipy in c:\\programdata\\anaconda3\\lib\\site-packages (from pyLDAvis) (1.9.1)\n",
      "Requirement already satisfied: scikit-learn>=1.0.0 in c:\\programdata\\anaconda3\\lib\\site-packages (from pyLDAvis) (1.0.2)\n",
      "Requirement already satisfied: numpy>=1.22.0 in c:\\users\\dan\\appdata\\roaming\\python\\python39\\site-packages (from pyLDAvis) (1.24.2)\n",
      "Requirement already satisfied: gensim in c:\\programdata\\anaconda3\\lib\\site-packages (from pyLDAvis) (4.1.2)\n",
      "Requirement already satisfied: setuptools in c:\\programdata\\anaconda3\\lib\\site-packages (from pyLDAvis) (63.4.1)\n",
      "Requirement already satisfied: python-dateutil>=2.8.1 in c:\\programdata\\anaconda3\\lib\\site-packages (from pandas>=1.3.4->pyLDAvis) (2.8.2)\n",
      "Requirement already satisfied: pytz>=2020.1 in c:\\programdata\\anaconda3\\lib\\site-packages (from pandas>=1.3.4->pyLDAvis) (2022.1)\n",
      "Requirement already satisfied: threadpoolctl>=2.0.0 in c:\\programdata\\anaconda3\\lib\\site-packages (from scikit-learn>=1.0.0->pyLDAvis) (2.2.0)\n",
      "Requirement already satisfied: smart-open>=1.8.1 in c:\\programdata\\anaconda3\\lib\\site-packages (from gensim->pyLDAvis) (5.2.1)\n",
      "Requirement already satisfied: MarkupSafe>=0.23 in c:\\programdata\\anaconda3\\lib\\site-packages (from jinja2->pyLDAvis) (2.0.1)\n",
      "Requirement already satisfied: packaging in c:\\programdata\\anaconda3\\lib\\site-packages (from numexpr->pyLDAvis) (21.3)\n",
      "Requirement already satisfied: six>=1.5 in c:\\programdata\\anaconda3\\lib\\site-packages (from python-dateutil>=2.8.1->pandas>=1.3.4->pyLDAvis) (1.16.0)\n",
      "Requirement already satisfied: pyparsing!=3.0.5,>=2.0.2 in c:\\programdata\\anaconda3\\lib\\site-packages (from packaging->numexpr->pyLDAvis) (3.0.9)\n"
     ]
    }
   ],
   "source": [
    "!pip install pyLDAvis"
   ]
  },
  {
   "cell_type": "code",
   "execution_count": 267,
   "id": "9b5b0dba",
   "metadata": {},
   "outputs": [
    {
     "name": "stderr",
     "output_type": "stream",
     "text": [
      "C:\\Users\\DAN\\AppData\\Roaming\\Python\\Python39\\site-packages\\pyLDAvis\\_prepare.py:243: FutureWarning: In a future version of pandas all arguments of DataFrame.drop except for the argument 'labels' will be keyword-only.\n",
      "  default_term_info = default_term_info.sort_values(\n"
     ]
    },
    {
     "data": {
      "text/html": [
       "\n",
       "<link rel=\"stylesheet\" type=\"text/css\" href=\"https://cdn.jsdelivr.net/gh/bmabey/pyLDAvis@3.4.0/pyLDAvis/js/ldavis.v1.0.0.css\">\n",
       "\n",
       "\n",
       "<div id=\"ldavis_el1788419372088165764224688270\" style=\"background-color:white;\"></div>\n",
       "<script type=\"text/javascript\">\n",
       "\n",
       "var ldavis_el1788419372088165764224688270_data = {\"mdsDat\": {\"x\": [-0.07350770939126001, -0.038256655049005286, 0.11176436444026532], \"y\": [0.07805935591386826, -0.09640128297588217, 0.018341927062013926], \"topics\": [1, 2, 3], \"cluster\": [1, 1, 1], \"Freq\": [34.55505620117274, 34.25831527500458, 31.18662852382268]}, \"tinfo\": {\"Term\": [\"technology\", \"blockchain\", \"towards\", \"student\", \"teachers\", \"science\", \"attitude\", \"in\", \"rural\", \"urban\", \"education\", \"review\", \"college\", \"study\", \"science.\", \"difference\", \"and\", \"students\", \"2030\", \"knowledge,\", \"systematic\", \"application\", \"literature\", \"have\", \"level\", \"has\", \"social\", \"areas\", \"sector.\", \"is\", \"technology\", \"blockchain\", \"review\", \"systematic\", \"application\", \"literature\", \"areas\", \"sector.\", \"education.\", \"applied\", \"system\", \"implemented\", \"finance,\", \"institutions,\", \"stages,\", \"studies\", \"educational\", \"smart\", \"still\", \"benefits\", \"early\", \"researchers\", \"where\", \"higher\", \"various\", \"benefits,\", \"present\", \"has\", \"while\", \"multidisciplinary\", \"education,\", \"potential\", \"in\", \"are\", \"is\", \"it\", \"the\", \"education\", \"on\", \"been\", \"of\", \"and\", \"that\", \"a\", \"its\", \"to\", \"paper\", \"with\", \"can\", \"study\", \"for\", \"there\", \"article\", \"be\", \"2030\", \"knowledge,\", \"social\", \"future.\", \"values\", \"skills,\", \"sustainable\", \"oecd\", \"which\", \"range\", \"emphasizes\", \"people\", \"shape\", \"knowledge\", \"competencies\", \"well-being\", \"project\", \"stakeholders\", \"shared\", \"global\", \"broad\", \"address\", \"vision\", \"people,\", \"challenges\", \"world\", \"world,\", \"economic\", \"framework\", \"technological\", \"as\", \"students\", \"and\", \"for\", \"to\", \"education\", \"of\", \"the\", \"future\", \"a\", \"skills\", \"necessary\", \"these\", \"their\", \"need\", \"be\", \"in\", \"is\", \"that\", \"on\", \"attitudes\", \"article\", \"towards\", \"teachers\", \"science\", \"attitude\", \"rural\", \"urban\", \"student\", \"college\", \"science.\", \"difference\", \"level\", \"moderate\", \"confidence,\", \"usefulness\", \"no\", \"personal\", \"among\", \"1080\", \"showed\", \"high\", \"improving\", \"involvement\", \"was\", \"district\", \"improve\", \"madurai\", \"teachers.\", \"overall,\", \"revenue\", \"dimensions.\", \"have\", \"between\", \"study\", \"significant\", \"the\", \"of\", \"that\", \"highlights\", \"also\", \"research\", \"and\", \"a\", \"this\", \"there\", \"in\", \"to\", \"their\", \"is\", \"for\", \"students\", \"attitudes\"], \"Freq\": [17.0, 17.0, 14.0, 15.0, 13.0, 12.0, 11.0, 34.0, 6.0, 6.0, 22.0, 6.0, 5.0, 11.0, 4.0, 4.0, 66.0, 7.0, 4.0, 4.0, 4.0, 4.0, 4.0, 5.0, 3.0, 6.0, 3.0, 3.0, 3.0, 15.0, 17.025244857175384, 17.015414690347647, 6.074090125760632, 3.8915591537841157, 3.890734050779213, 3.8895875210246036, 3.1623597690131207, 3.1582490600784197, 2.431156447286663, 1.7030520401575733, 1.7028875579598588, 1.7028684446439213, 1.7025829563122088, 1.7025738034566895, 1.7025171365129597, 1.7025051570402947, 1.7024638345896415, 1.7024678726141351, 1.7024317995953238, 1.7023587113519858, 1.7021714816162894, 1.7021565409256623, 1.7020706656047606, 1.7020733576210898, 1.7017434510199454, 1.7015346851536153, 1.701102481931961, 4.623198851357538, 0.9739727866152693, 0.9739719117099623, 2.4347072168248887, 2.4337510126247537, 21.425671819645224, 4.631075152733535, 9.01637890586915, 4.629665612983562, 37.611409230943984, 11.202666586633077, 5.361498328127788, 3.163605095767012, 15.6289907461899, 17.071555075683488, 6.09885236876322, 9.039770374156905, 3.1644476968780544, 7.573534068274059, 2.434617572681126, 2.4396944462763797, 2.43603088125396, 3.8933272701091393, 4.64306000943117, 2.4408843174938895, 2.4398072417605734, 2.4366457377835515, 3.874745279329934, 3.874153050711244, 3.1450117975969563, 2.4247830647587083, 2.423721910640677, 2.4227888636596315, 2.4227069284699345, 2.42252224068078, 2.422479271411916, 2.4224226907597477, 2.4221349834812673, 2.4220146161504745, 2.4214263908798155, 2.4208891415740816, 1.6967455346965126, 1.696659329268916, 1.696614091436168, 1.6964312718760948, 1.6963115717699737, 1.696301696844831, 1.696200412139652, 1.6961739900426485, 1.696096725425654, 1.6959842313459885, 1.6958942894602298, 1.6957585759619858, 1.695722412384774, 1.6957108026754848, 1.6955947055825915, 1.6955546721022834, 4.605230056043359, 5.339781433686472, 33.09552657719309, 10.444512959991133, 13.377767129719091, 10.465622881047421, 17.772994892560025, 26.539552031837214, 3.155067940960462, 10.474725960689726, 2.4264020187023645, 2.4245847655862494, 2.4229567373870564, 4.613895970080701, 3.1617439241366267, 3.1577077486519722, 4.693337340844457, 2.466152595749539, 2.4538081386516275, 2.443663654741576, 2.431815079019746, 2.431532175758903, 14.411335608493603, 13.003796300681818, 11.572534392967603, 10.86537156177538, 5.906151847858804, 5.90599295211591, 14.433870620641802, 5.200821419866745, 4.491094390401578, 3.7807524295522135, 3.0730696642777366, 2.365228489180069, 2.3646915479082096, 2.364480172837387, 2.3642430440223032, 2.3629679907215255, 2.3629130817950816, 1.655914005542783, 1.655813298684328, 1.6557631274749889, 1.6556013162138765, 1.6555578264004545, 1.6553372188552742, 1.6552176826083262, 1.6551530552878218, 1.6550807747319944, 1.6550692341390474, 1.6550333975609481, 1.6548432814771337, 1.6547160919948627, 3.787069142731886, 3.0740864512563486, 7.32674247297455, 3.7833555014014006, 27.235943187642864, 15.161746265095823, 6.625517094633777, 2.36845232344989, 2.3667120020334513, 2.362619343334594, 16.60915722822088, 9.467358223821996, 3.0741326136281377, 3.074286650174001, 8.045917725145634, 6.637306478468941, 3.7947699981856693, 4.488168667869572, 4.517441442620128, 2.372697560935502, 2.3673811134645377], \"Total\": [17.0, 17.0, 14.0, 15.0, 13.0, 12.0, 11.0, 34.0, 6.0, 6.0, 22.0, 6.0, 5.0, 11.0, 4.0, 4.0, 66.0, 7.0, 4.0, 4.0, 4.0, 4.0, 4.0, 5.0, 3.0, 6.0, 3.0, 3.0, 3.0, 15.0, 17.562007221734948, 17.56200417507964, 6.581001734578033, 4.384829840056446, 4.384832606039179, 4.384817220179357, 3.6527709637302364, 3.652762456451565, 2.920705822029762, 2.1886450540396476, 2.1886423584400996, 2.1886437290836325, 2.188641733691426, 2.1886376909341347, 2.1886418571747885, 2.188636529663223, 2.1886336229996215, 2.1886408138235285, 2.1886382693642528, 2.1886416235775097, 2.1886389543385225, 2.188643359674476, 2.188637113466879, 2.188643076131844, 2.1886348671542812, 2.188633921625034, 2.1886330618945586, 6.576288288905156, 1.4565772996242838, 1.456577407995973, 3.6503676899788164, 3.650358463099185, 34.16492688563532, 7.270612313966924, 15.97070016948826, 7.288255840083835, 91.38690445042405, 22.63378422019857, 9.462184371254782, 5.0944089387607105, 48.56373190384574, 66.77623888109746, 15.178177602048624, 28.98185455866863, 5.788733793846651, 27.58860767646209, 4.344695684001948, 4.362358835289237, 4.380110239502111, 11.50487322643107, 19.605014412042433, 5.768684799905646, 5.821818765293898, 5.839550041533776, 4.373127861066649, 4.373113540034717, 3.643405262563896, 2.913762940897948, 2.9137321902694415, 2.913728136266884, 2.913724667831205, 2.913724520663169, 2.9136911900887217, 2.9137412055120326, 2.9136945479098904, 2.9137270023070534, 2.91369655001513, 2.9136990344591402, 2.1840125383988562, 2.18399163725351, 2.1839923733843722, 2.1839791287733457, 2.1839735417051207, 2.183983992340312, 2.1839633074159557, 2.1839866239945662, 2.183979859444914, 2.1839968689814526, 2.1839662108895497, 2.183981581971363, 2.1839666238188276, 2.183965607197964, 2.183964566953402, 2.1839869119865023, 6.546887892885741, 7.968679484205573, 66.77623888109746, 19.605014412042433, 27.58860767646209, 22.63378422019857, 48.56373190384574, 91.38690445042405, 5.087409330936065, 28.98185455866863, 3.6257054985073616, 3.6256484692537843, 3.625606091578646, 9.394817571355794, 5.819489689709358, 5.839550041533776, 34.16492688563532, 15.97070016948826, 15.178177602048624, 9.462184371254782, 5.0497162920618255, 5.821818765293898, 14.964863693853665, 13.540557031969024, 12.116892749045768, 11.40482886151425, 6.420675528550938, 6.420690796953302, 15.693970220266928, 5.708573130878855, 4.996584198325959, 4.284602320644439, 3.5725660936206207, 2.860527254352368, 2.8605446574328353, 2.8605467537043237, 2.8605509535288376, 2.8605841271702825, 2.8605852958536357, 2.1485248403677706, 2.148526684586468, 2.1485272783716667, 2.148531564038345, 2.1485345245859393, 2.1485381305851994, 2.1485428038091907, 2.1485436139212597, 2.1485474324971565, 2.1485445309707867, 2.148548644427581, 2.1485511491281906, 2.1485554359789782, 5.014150645347246, 4.304540322165763, 11.50487322643107, 5.746244872200013, 91.38690445042405, 48.56373190384574, 15.178177602048624, 3.5901392693247196, 3.5901887911546595, 3.592582322836241, 66.77623888109746, 28.98185455866863, 5.766305652305288, 5.768684799905646, 34.16492688563532, 27.58860767646209, 9.394817571355794, 15.97070016948826, 19.605014412042433, 7.968679484205573, 5.0497162920618255], \"Category\": [\"Default\", \"Default\", \"Default\", \"Default\", \"Default\", \"Default\", \"Default\", \"Default\", \"Default\", \"Default\", \"Default\", \"Default\", \"Default\", \"Default\", \"Default\", \"Default\", \"Default\", \"Default\", \"Default\", \"Default\", \"Default\", \"Default\", \"Default\", \"Default\", \"Default\", \"Default\", \"Default\", \"Default\", \"Default\", \"Default\", \"Topic1\", \"Topic1\", \"Topic1\", \"Topic1\", \"Topic1\", \"Topic1\", \"Topic1\", \"Topic1\", \"Topic1\", \"Topic1\", \"Topic1\", \"Topic1\", \"Topic1\", \"Topic1\", \"Topic1\", \"Topic1\", \"Topic1\", \"Topic1\", \"Topic1\", \"Topic1\", \"Topic1\", \"Topic1\", \"Topic1\", \"Topic1\", \"Topic1\", \"Topic1\", \"Topic1\", \"Topic1\", \"Topic1\", \"Topic1\", \"Topic1\", \"Topic1\", \"Topic1\", \"Topic1\", \"Topic1\", \"Topic1\", \"Topic1\", \"Topic1\", \"Topic1\", \"Topic1\", \"Topic1\", \"Topic1\", \"Topic1\", \"Topic1\", \"Topic1\", \"Topic1\", \"Topic1\", \"Topic1\", \"Topic1\", \"Topic1\", \"Topic1\", \"Topic1\", \"Topic1\", \"Topic1\", \"Topic2\", \"Topic2\", \"Topic2\", \"Topic2\", \"Topic2\", \"Topic2\", \"Topic2\", \"Topic2\", \"Topic2\", \"Topic2\", \"Topic2\", \"Topic2\", \"Topic2\", \"Topic2\", \"Topic2\", \"Topic2\", \"Topic2\", \"Topic2\", \"Topic2\", \"Topic2\", \"Topic2\", \"Topic2\", \"Topic2\", \"Topic2\", \"Topic2\", \"Topic2\", \"Topic2\", \"Topic2\", \"Topic2\", \"Topic2\", \"Topic2\", \"Topic2\", \"Topic2\", \"Topic2\", \"Topic2\", \"Topic2\", \"Topic2\", \"Topic2\", \"Topic2\", \"Topic2\", \"Topic2\", \"Topic2\", \"Topic2\", \"Topic2\", \"Topic2\", \"Topic2\", \"Topic2\", \"Topic2\", \"Topic2\", \"Topic2\", \"Topic2\", \"Topic2\", \"Topic3\", \"Topic3\", \"Topic3\", \"Topic3\", \"Topic3\", \"Topic3\", \"Topic3\", \"Topic3\", \"Topic3\", \"Topic3\", \"Topic3\", \"Topic3\", \"Topic3\", \"Topic3\", \"Topic3\", \"Topic3\", \"Topic3\", \"Topic3\", \"Topic3\", \"Topic3\", \"Topic3\", \"Topic3\", \"Topic3\", \"Topic3\", \"Topic3\", \"Topic3\", \"Topic3\", \"Topic3\", \"Topic3\", \"Topic3\", \"Topic3\", \"Topic3\", \"Topic3\", \"Topic3\", \"Topic3\", \"Topic3\", \"Topic3\", \"Topic3\", \"Topic3\", \"Topic3\", \"Topic3\", \"Topic3\", \"Topic3\", \"Topic3\", \"Topic3\", \"Topic3\", \"Topic3\", \"Topic3\", \"Topic3\", \"Topic3\", \"Topic3\"], \"logprob\": [30.0, 29.0, 28.0, 27.0, 26.0, 25.0, 24.0, 23.0, 22.0, 21.0, 20.0, 19.0, 18.0, 17.0, 16.0, 15.0, 14.0, 13.0, 12.0, 11.0, 10.0, 9.0, 8.0, 7.0, 6.0, 5.0, 4.0, 3.0, 2.0, 1.0, -3.5251, -3.5256, -4.5557, -5.0009, -5.0012, -5.0015, -5.2084, -5.2097, -5.4714, -5.8273, -5.8274, -5.8274, -5.8276, -5.8276, -5.8276, -5.8277, -5.8277, -5.8277, -5.8277, -5.8277, -5.8279, -5.8279, -5.8279, -5.8279, -5.8281, -5.8282, -5.8285, -4.8287, -6.3861, -6.3861, -5.4699, -5.4703, -3.2952, -4.827, -4.1607, -4.8273, -2.7324, -3.9436, -4.6805, -5.208, -3.6106, -3.5223, -4.5517, -4.1581, -5.2078, -4.3351, -5.47, -5.4679, -5.4694, -5.0005, -4.8244, -5.4674, -5.4678, -5.4691, -4.9967, -4.9968, -5.2053, -5.4654, -5.4658, -5.4662, -5.4662, -5.4663, -5.4663, -5.4664, -5.4665, -5.4665, -5.4668, -5.467, -5.8224, -5.8225, -5.8225, -5.8226, -5.8227, -5.8227, -5.8227, -5.8228, -5.8228, -5.8229, -5.8229, -5.823, -5.823, -5.823, -5.8231, -5.8231, -4.8239, -4.6759, -2.8517, -4.0051, -3.7575, -4.003, -3.4735, -3.0725, -5.2021, -4.0022, -5.4647, -5.4655, -5.4661, -4.8221, -5.2, -5.2013, -4.805, -5.4485, -5.4535, -5.4576, -5.4625, -5.4626, -3.5892, -3.692, -3.8086, -3.8716, -4.4812, -4.4812, -3.5876, -4.6084, -4.7551, -4.9273, -5.1345, -5.3963, -5.3965, -5.3966, -5.3967, -5.3973, -5.3973, -5.7528, -5.7529, -5.7529, -5.753, -5.7531, -5.7532, -5.7533, -5.7533, -5.7533, -5.7534, -5.7534, -5.7535, -5.7536, -4.9256, -5.1342, -4.2657, -4.9266, -2.9527, -3.5384, -4.3663, -5.395, -5.3957, -5.3974, -3.4472, -4.0093, -5.1342, -5.1341, -4.172, -4.3645, -4.9236, -4.7557, -4.7492, -5.3932, -5.3954], \"loglift\": [30.0, 29.0, 28.0, 27.0, 26.0, 25.0, 24.0, 23.0, 22.0, 21.0, 20.0, 19.0, 18.0, 17.0, 16.0, 15.0, 14.0, 13.0, 12.0, 11.0, 10.0, 9.0, 8.0, 7.0, 6.0, 5.0, 4.0, 3.0, 2.0, 1.0, 1.0316, 1.031, 0.9825, 0.9433, 0.9431, 0.9428, 0.9184, 0.9172, 0.8792, 0.8118, 0.8117, 0.8116, 0.8115, 0.8115, 0.8114, 0.8114, 0.8114, 0.8114, 0.8114, 0.8114, 0.8112, 0.8112, 0.8112, 0.8112, 0.811, 0.8109, 0.8106, 0.7102, 0.6602, 0.6602, 0.6576, 0.6572, 0.596, 0.6116, 0.4909, 0.6088, 0.1748, 0.3593, 0.4946, 0.5862, -0.0711, -0.3013, 0.1509, -0.1024, 0.4587, -0.2301, 0.4835, 0.4815, 0.4759, -0.0209, -0.3778, 0.2025, 0.1929, 0.1886, 0.9502, 0.9501, 0.9241, 0.8875, 0.8871, 0.8867, 0.8867, 0.8866, 0.8866, 0.8866, 0.8865, 0.8864, 0.8862, 0.886, 0.8188, 0.8187, 0.8187, 0.8186, 0.8186, 0.8185, 0.8185, 0.8185, 0.8184, 0.8183, 0.8183, 0.8182, 0.8182, 0.8182, 0.8181, 0.8181, 0.7194, 0.6709, 0.3693, 0.4415, 0.3474, 0.2999, 0.066, -0.1652, 0.5935, 0.0535, 0.6696, 0.6689, 0.6682, 0.3602, 0.4612, 0.4564, -0.9138, -0.7969, -0.751, -0.2826, 0.3405, 0.1981, 1.1275, 1.1247, 1.1192, 1.1167, 1.0817, 1.0816, 1.0815, 1.072, 1.0585, 1.0401, 1.0146, 0.975, 0.9748, 0.9747, 0.9746, 0.9741, 0.974, 0.9048, 0.9047, 0.9047, 0.9046, 0.9045, 0.9044, 0.9043, 0.9043, 0.9042, 0.9042, 0.9042, 0.9041, 0.904, 0.8845, 0.8285, 0.7139, 0.7472, -0.0454, 0.0011, 0.3363, 0.7492, 0.7485, 0.7461, -0.2262, 0.0464, 0.5362, 0.5358, -0.2809, -0.2595, 0.2586, -0.1041, -0.3027, -0.0463, 0.4076]}, \"token.table\": {\"Topic\": [3, 2, 1, 2, 3, 2, 2, 3, 3, 1, 2, 3, 1, 1, 1, 2, 3, 1, 1, 2, 3, 1, 2, 3, 3, 2, 3, 1, 2, 1, 2, 3, 1, 1, 1, 3, 1, 2, 1, 2, 2, 3, 2, 3, 3, 3, 3, 1, 2, 1, 2, 3, 1, 2, 1, 1, 2, 1, 1, 2, 3, 2, 1, 2, 3, 2, 2, 1, 2, 2, 3, 3, 1, 2, 3, 1, 3, 3, 1, 2, 3, 1, 3, 1, 2, 3, 1, 2, 3, 1, 3, 2, 2, 3, 1, 3, 3, 1, 2, 3, 1, 2, 3, 3, 2, 1, 2, 3, 1, 2, 3, 3, 1, 3, 2, 2, 3, 1, 2, 1, 2, 2, 1, 3, 1, 3, 1, 3, 3, 3, 1, 2, 2, 3, 1, 2, 3, 2, 3, 2, 1, 2, 1, 2, 1, 2, 3, 2, 3, 1, 1, 3, 2, 1, 1, 3, 3, 2, 1, 1, 2, 3, 1, 2, 3, 1, 2, 3, 1, 3, 2, 3, 1, 2, 3, 1, 2, 3, 3, 3, 3, 2, 1, 2, 3, 2, 1, 2, 1, 1, 2, 3, 2, 2], \"Freq\": [0.930871248227064, 0.9146771206054699, 0.3105391334354085, 0.34504348159489834, 0.3105391334354085, 0.9157565243426034, 0.2785368843175472, 0.5570737686350944, 0.6991576174634478, 0.2545815739977568, 0.49418776128976327, 0.2545815739977568, 0.9122355080307618, 0.9138073788203072, 0.6876999878531477, 0.13753999757062954, 0.2750799951412591, 0.821294307742848, 0.3435352560135966, 0.3435352560135966, 0.1717676280067983, 0.15274432926927964, 0.7637216463463982, 0.15274432926927964, 0.9645037320217622, 0.39606185463211235, 0.39606185463211235, 0.342492141650471, 0.5137382124757065, 0.588880876282734, 0.196293625427578, 0.196293625427578, 0.9138088111158373, 0.9138120268715494, 0.2323128429882765, 0.6969385289648296, 0.9679988588160616, 0.9157663012051154, 0.45660951223623564, 0.45660951223623564, 0.9157650837397258, 0.8758756146880144, 0.9157456584320897, 0.6991675500689013, 0.9335755574623242, 0.9308579925417239, 0.9308634654400012, 0.9138099255865911, 0.9157653368754316, 0.4859991547583771, 0.4418174134167065, 0.044181741341670654, 0.5478900126939285, 0.2739450063469642, 0.6847659853021719, 0.9138121515555031, 0.6864137496618099, 0.9138087651407171, 0.25503679287931236, 0.5100735857586247, 0.25503679287931236, 0.9157657730637866, 0.19656369970450235, 0.589691099113507, 0.19656369970450235, 0.6863976378887057, 0.9157576278097356, 0.7603073010706497, 0.3041229204282599, 0.19943557159135708, 0.7977422863654283, 0.9308701919371333, 0.913808204641002, 0.27854072641256983, 0.5570814528251397, 0.9138079320188781, 0.9308631144563289, 0.9308683351343614, 0.614665445364365, 0.14634891556294405, 0.23415826490071048, 0.9138104530889157, 0.9308670524554105, 0.5635319619357917, 0.12522932487462038, 0.25045864974924076, 0.6860351927413249, 0.27441407709652993, 0.13720703854826496, 0.5182480498911456, 0.34549869992743043, 0.6864126927135605, 0.9146801159816776, 0.8397325399681121, 0.9122387089686679, 0.930861460049543, 0.6991718037144891, 0.6865409242999633, 0.5516254587173565, 0.27581272935867823, 0.34367274565957445, 0.5155091184893617, 0.17183637282978723, 0.6991660111954155, 0.6864066886957442, 0.3294639718314763, 0.37064696831041083, 0.30887247359200903, 0.528419211021667, 0.2113676844086668, 0.2113676844086668, 0.9308609349791298, 0.4603314352635574, 0.4603314352635574, 0.6864061040778441, 0.9157522285884673, 0.6991579031022658, 0.5478913975757831, 0.27394569878789155, 0.9138123858316975, 0.9157541136010229, 0.6864027581504238, 0.2783513111567416, 0.5567026223134832, 0.9138080862555271, 0.9308598498162506, 0.9117153044459293, 0.934481110798963, 0.9903529104807028, 0.8005469018895246, 0.8212962205361463, 0.6864132780023419, 0.9157620098449156, 0.930870449200376, 0.17402669434397755, 0.17402669434397755, 0.6961067773759102, 0.551616782119608, 0.275808391059804, 0.6864058369434675, 0.9138091492070938, 0.8234055186847027, 0.9138087135835475, 0.9157596671371675, 0.9138102115800764, 0.06371873948815175, 0.8920623528341245, 0.6274565327806592, 0.25098261311226366, 0.9138109379485458, 0.3476787550175241, 0.6084378212806671, 0.6864066540263309, 0.9138085042937075, 0.9122360834755924, 0.9600786710108913, 0.9308627171419765, 0.9157564035861587, 0.9679986908877135, 0.3953043743005201, 0.13176812476684002, 0.4611884366839401, 0.4158145002122749, 0.295447144887669, 0.295447144887669, 0.10644166237447089, 0.5322083118723544, 0.42576664949788356, 0.3466994764617253, 0.5200492146925879, 0.5516319063578052, 0.2758159531789026, 0.3468425228552406, 0.1734212614276203, 0.5202637842828609, 0.289974763997438, 0.4712089914958367, 0.2537279184977582, 0.9355247255442793, 0.9344788886029327, 0.6991670377035646, 0.6864048819171175, 0.9138116320884766, 0.9157593607609208, 0.930865490134568, 0.9157544222628573, 0.9138106941958637, 0.6864145407046723, 0.68654097537971, 0.45846755746478934, 0.22923377873239467, 0.22923377873239467, 0.9157586384930534, 0.9157649105932085], \"Term\": [\"1080\", \"2030\", \"a\", \"a\", \"a\", \"address\", \"also\", \"also\", \"among\", \"and\", \"and\", \"and\", \"application\", \"applied\", \"are\", \"are\", \"are\", \"areas\", \"article\", \"article\", \"article\", \"as\", \"as\", \"as\", \"attitude\", \"attitudes\", \"attitudes\", \"be\", \"be\", \"been\", \"been\", \"been\", \"benefits\", \"benefits,\", \"between\", \"between\", \"blockchain\", \"broad\", \"can\", \"can\", \"challenges\", \"college\", \"competencies\", \"confidence,\", \"difference\", \"dimensions.\", \"district\", \"early\", \"economic\", \"education\", \"education\", \"education\", \"education,\", \"education,\", \"education.\", \"educational\", \"emphasizes\", \"finance,\", \"for\", \"for\", \"for\", \"framework\", \"future\", \"future\", \"future\", \"future.\", \"global\", \"has\", \"has\", \"have\", \"have\", \"high\", \"higher\", \"highlights\", \"highlights\", \"implemented\", \"improve\", \"improving\", \"in\", \"in\", \"in\", \"institutions,\", \"involvement\", \"is\", \"is\", \"is\", \"it\", \"it\", \"it\", \"its\", \"its\", \"knowledge\", \"knowledge,\", \"level\", \"literature\", \"madurai\", \"moderate\", \"multidisciplinary\", \"necessary\", \"necessary\", \"need\", \"need\", \"need\", \"no\", \"oecd\", \"of\", \"of\", \"of\", \"on\", \"on\", \"on\", \"overall,\", \"paper\", \"paper\", \"people\", \"people,\", \"personal\", \"potential\", \"potential\", \"present\", \"project\", \"range\", \"research\", \"research\", \"researchers\", \"revenue\", \"review\", \"rural\", \"science\", \"science.\", \"sector.\", \"shape\", \"shared\", \"showed\", \"significant\", \"significant\", \"significant\", \"skills\", \"skills\", \"skills,\", \"smart\", \"social\", \"stages,\", \"stakeholders\", \"still\", \"student\", \"student\", \"students\", \"students\", \"studies\", \"study\", \"study\", \"sustainable\", \"system\", \"systematic\", \"teachers\", \"teachers.\", \"technological\", \"technology\", \"that\", \"that\", \"that\", \"the\", \"the\", \"the\", \"their\", \"their\", \"their\", \"there\", \"there\", \"these\", \"these\", \"this\", \"this\", \"this\", \"to\", \"to\", \"to\", \"towards\", \"urban\", \"usefulness\", \"values\", \"various\", \"vision\", \"was\", \"well-being\", \"where\", \"which\", \"while\", \"with\", \"with\", \"with\", \"world\", \"world,\"]}, \"R\": 30, \"lambda.step\": 0.01, \"plot.opts\": {\"xlab\": \"PC1\", \"ylab\": \"PC2\"}, \"topic.order\": [2, 1, 3]};\n",
       "\n",
       "function LDAvis_load_lib(url, callback){\n",
       "  var s = document.createElement('script');\n",
       "  s.src = url;\n",
       "  s.async = true;\n",
       "  s.onreadystatechange = s.onload = callback;\n",
       "  s.onerror = function(){console.warn(\"failed to load library \" + url);};\n",
       "  document.getElementsByTagName(\"head\")[0].appendChild(s);\n",
       "}\n",
       "\n",
       "if(typeof(LDAvis) !== \"undefined\"){\n",
       "   // already loaded: just create the visualization\n",
       "   !function(LDAvis){\n",
       "       new LDAvis(\"#\" + \"ldavis_el1788419372088165764224688270\", ldavis_el1788419372088165764224688270_data);\n",
       "   }(LDAvis);\n",
       "}else if(typeof define === \"function\" && define.amd){\n",
       "   // require.js is available: use it to load d3/LDAvis\n",
       "   require.config({paths: {d3: \"https://d3js.org/d3.v5\"}});\n",
       "   require([\"d3\"], function(d3){\n",
       "      window.d3 = d3;\n",
       "      LDAvis_load_lib(\"https://cdn.jsdelivr.net/gh/bmabey/pyLDAvis@3.4.0/pyLDAvis/js/ldavis.v3.0.0.js\", function(){\n",
       "        new LDAvis(\"#\" + \"ldavis_el1788419372088165764224688270\", ldavis_el1788419372088165764224688270_data);\n",
       "      });\n",
       "    });\n",
       "}else{\n",
       "    // require.js not available: dynamically load d3 & LDAvis\n",
       "    LDAvis_load_lib(\"https://d3js.org/d3.v5.js\", function(){\n",
       "         LDAvis_load_lib(\"https://cdn.jsdelivr.net/gh/bmabey/pyLDAvis@3.4.0/pyLDAvis/js/ldavis.v3.0.0.js\", function(){\n",
       "                 new LDAvis(\"#\" + \"ldavis_el1788419372088165764224688270\", ldavis_el1788419372088165764224688270_data);\n",
       "            })\n",
       "         });\n",
       "}\n",
       "</script>"
      ],
      "text/plain": [
       "<IPython.core.display.HTML object>"
      ]
     },
     "execution_count": 267,
     "metadata": {},
     "output_type": "execute_result"
    }
   ],
   "source": [
    "# 輸出主題模型分析結果\n",
    "import pyLDAvis.gensim\n",
    "pyLDAvis.enable_notebook()\n",
    "vis = pyLDAvis.gensim.prepare(lda_model, corpus, dictionary)\n",
    "pyLDAvis.display(vis)"
   ]
  },
  {
   "cell_type": "code",
   "execution_count": null,
   "id": "acd5dc7e",
   "metadata": {},
   "outputs": [],
   "source": []
  }
 ],
 "metadata": {
  "kernelspec": {
   "display_name": "Python 3 (ipykernel)",
   "language": "python",
   "name": "python3"
  },
  "language_info": {
   "codemirror_mode": {
    "name": "ipython",
    "version": 3
   },
   "file_extension": ".py",
   "mimetype": "text/x-python",
   "name": "python",
   "nbconvert_exporter": "python",
   "pygments_lexer": "ipython3",
   "version": "3.9.13"
  }
 },
 "nbformat": 4,
 "nbformat_minor": 5
}
